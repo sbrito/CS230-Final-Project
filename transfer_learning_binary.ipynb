{
 "cells": [
  {
   "cell_type": "code",
   "execution_count": null,
   "metadata": {},
   "outputs": [],
   "source": [
    "### Read in the data\n",
    "img_data_dir = \"data/imgs/\" # replace with your own dir if necessary\n",
    "img_label_file = \"data/labels.csv\"\n",
    "\n",
    "## Given an image name, extracts the label from the labels.csv file. True if 1 False if -1\n",
    "def extract_label(file_name):\n",
    "    split = file_name.split(\"-\") # split image name\n",
    "    fall_name = split[0] + \"-\" + split[1] # reconstruct fall name\n",
    "    frame = int(split[-1].split(\".\")[0]) # end of split is like 113.png. removes .png part\n",
    "    fall_labels = labels_csv.loc[fall_name]\n",
    "    frame_label = fall_labels.loc[fall_labels[\"frame\"] == frame]\n",
    "    return int(frame_label.label) > 0\n",
    "\n",
    "### Loads in the data from images and stores it in an array. Order is important because \n",
    "### The labels are in the same order as the images are appended to the array\n",
    "def load_img_data():\n",
    "    imgs = []\n",
    "    labels = []\n",
    "    labels_csv = pd.read_csv(img_label_file)\n",
    "    \n",
    "    # Iterates through fall folders and the frames within each fall\n",
    "    for img_folder in os.listdir(img_data_dir):\n",
    "        path = os.path.join(img_data_dir,img_folder)\n",
    "        if (\"fall\" in path):\n",
    "            for file in os.listdir(path):\n",
    "                img = cv2.imread(os.path.join(path, file))\n",
    "                img = cv.resize(img ,(224,224,3)) # need to change to the size vgg-16 expects\n",
    "                img = cv2.normalize(img, None, alpha=0, beta=1, norm_type=cv2.NORM_MINMAX, dtype=cv2.CV_32F)\n",
    "                print(\"img dim\", img.shape)\n",
    "                imgs.append(img)\n",
    "                labels.append([extract_label(file)])\n",
    "                \n",
    "    return imgs, labels"
   ]
  },
  {
   "cell_type": "code",
   "execution_count": null,
   "metadata": {},
   "outputs": [],
   "source": [
    "# transfer learning modifications to the model\n",
    "\n",
    "from tensorflow.keras.applications.vgg16 import VGG16\n",
    "from keras.models import Sequential\n",
    "from tensorflow.keras.layers import Dense, GlobalAveragePooling2D\n",
    "\n",
    "model = Sequential()\n",
    "\n",
    "# pretrained VGG16 model architecture on ImageNet\n",
    "base_model = VGG16(weights='imagenet', include_top=False)\n",
    "model.add(base_model)\n",
    "\n",
    "for i, layer in enumerate(base_model.layers):\n",
    "    print(i, layer.name)\n",
    "\n",
    "# for layer in base_model.layers:\n",
    "#     layer.trainable = False\n",
    "\n",
    "# add other layers\n",
    "model.add(GlobalAveragePooling2D())\n",
    "model.add(Dense(1, activation='sigmoid')) \n",
    "# for binary; it is model.add(Dense(3, activation='softmax')) for the multi-class version\n"
   ]
  },
  {
   "cell_type": "code",
   "execution_count": null,
   "metadata": {},
   "outputs": [],
   "source": [
    "#compile model using accuracy to measure model performance\n",
    "model.compile(optimizer='adam', loss='binary_crossentropy', metrics=['accuracy'])"
   ]
  }
 ],
 "metadata": {
  "kernelspec": {
   "display_name": "Python 3",
   "language": "python",
   "name": "python3"
  },
  "language_info": {
   "codemirror_mode": {
    "name": "ipython",
    "version": 3
   },
   "file_extension": ".py",
   "mimetype": "text/x-python",
   "name": "python",
   "nbconvert_exporter": "python",
   "pygments_lexer": "ipython3",
   "version": "3.7.6"
  }
 },
 "nbformat": 4,
 "nbformat_minor": 4
}
